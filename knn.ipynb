{
 "cells": [
  {
   "cell_type": "markdown",
   "metadata": {},
   "source": [
    "# KNN"
   ]
  },
  {
   "cell_type": "code",
   "execution_count": 3,
   "metadata": {},
   "outputs": [],
   "source": [
    "import pandas as pd\n",
    "import numpy as np\n",
    "import matplotlib\n",
    "import matplotlib.pyplot as plt\n",
    "import seaborn as sns\n",
    "\n",
    "plt.style.use('ggplot')\n",
    "%config InlineBackend.figure_format = 'retina'\n",
    "%matplotlib inline"
   ]
  },
  {
   "cell_type": "code",
   "execution_count": 1,
   "metadata": {},
   "outputs": [],
   "source": [
    "from sklearn.model_selection import GridSearchCV\n",
    "from sklearn.model_selection import train_test_split, cross_val_predict, cross_val_score\n",
    "from sklearn.neighbors import KNeighborsClassifier\n",
    "from sklearn.preprocessing import StandardScaler"
   ]
  },
  {
   "cell_type": "code",
   "execution_count": 4,
   "metadata": {},
   "outputs": [],
   "source": [
    "# laods in data frame as df\n",
    "df = pd.read_csv('/Users/tomjones/Documents/determining shot project/modelling.csv')"
   ]
  },
  {
   "cell_type": "code",
   "execution_count": 5,
   "metadata": {},
   "outputs": [],
   "source": [
    "y = df.pop('shot_outcome') # sets target variable as y and removes it from df\n",
    "X = df # sets remaining df as predictor variables x "
   ]
  },
  {
   "cell_type": "code",
   "execution_count": 6,
   "metadata": {},
   "outputs": [],
   "source": [
    "# creates test train split\n",
    "X_train, X_test, y_train, y_test = train_test_split(X, y,\n",
    "                        stratify=y, test_size=0.3, random_state=1)"
   ]
  },
  {
   "cell_type": "code",
   "execution_count": 7,
   "metadata": {},
   "outputs": [],
   "source": [
    "# standardises predictor vriables \n",
    "scaler = StandardScaler()\n",
    "\n",
    "X_train = scaler.fit_transform(X_train)\n",
    "X_test = scaler.transform(X_test)\n",
    "\n",
    "X_train = pd.DataFrame(X_train, columns=X.columns)\n",
    "X_test = pd.DataFrame(X_test, columns=X.columns)"
   ]
  },
  {
   "cell_type": "code",
   "execution_count": 24,
   "metadata": {},
   "outputs": [],
   "source": [
    "# sets up parameters for grid search\n",
    "params = {'n_neighbors': [3, 5, 7, 9, 11],\n",
    "          'algorithm': ['auto', 'ball_tree', 'kd_tree', 'brute'],\n",
    "          'leaf_size' : [10,20, 30 ,40, 50],\n",
    "          'p' : [1,2]}"
   ]
  },
  {
   "cell_type": "code",
   "execution_count": 25,
   "metadata": {},
   "outputs": [
    {
     "name": "stdout",
     "output_type": "stream",
     "text": [
      "Fitting 5 folds for each of 200 candidates, totalling 1000 fits\n"
     ]
    },
    {
     "name": "stderr",
     "output_type": "stream",
     "text": [
      "[Parallel(n_jobs=-1)]: Using backend LokyBackend with 8 concurrent workers.\n",
      "[Parallel(n_jobs=-1)]: Done  16 tasks      | elapsed: 16.8min\n",
      "[Parallel(n_jobs=-1)]: Done 112 tasks      | elapsed: 102.9min\n",
      "[Parallel(n_jobs=-1)]: Done 272 tasks      | elapsed: 219.7min\n",
      "[Parallel(n_jobs=-1)]: Done 496 tasks      | elapsed: 397.1min\n",
      "[Parallel(n_jobs=-1)]: Done 784 tasks      | elapsed: 624.4min\n",
      "[Parallel(n_jobs=-1)]: Done 1000 out of 1000 | elapsed: 705.2min finished\n"
     ]
    },
    {
     "data": {
      "text/plain": [
       "GridSearchCV(cv=5, estimator=KNeighborsClassifier(), n_jobs=-1,\n",
       "             param_grid={'algorithm': ['auto', 'ball_tree', 'kd_tree', 'brute'],\n",
       "                         'leaf_size': [10, 20, 30, 40, 50],\n",
       "                         'n_neighbors': [3, 5, 7, 9, 11], 'p': [1, 2]},\n",
       "             verbose=3)"
      ]
     },
     "execution_count": 25,
     "metadata": {},
     "output_type": "execute_result"
    }
   ],
   "source": [
    "# First create the base model to tune\n",
    "knn = KNeighborsClassifier()\n",
    "# Random search of parameters\n",
    "knn_gs = GridSearchCV(estimator = knn, param_grid = params, cv = 5, verbose=3, n_jobs = -1)\n",
    "# Fit the random search model\n",
    "knn_gs.fit(X_train, y_train)"
   ]
  },
  {
   "cell_type": "code",
   "execution_count": 10,
   "metadata": {},
   "outputs": [
    {
     "name": "stdout",
     "output_type": "stream",
     "text": [
      "Best Parameters:\n",
      "{'bootstrap': True, 'class_weight': 'balanced', 'criterion': 'entropy', 'max_depth': 20, 'max_features': 'auto', 'min_samples_split': 5, 'random_state': 1}\n",
      "Best estimator mean cross validated training score:\n",
      "0.9339035998520133\n",
      "Best estimator score on the full training set:\n",
      "0.9839708793664985\n",
      "Best estimator score on the test set:\n",
      "0.9284862932061978\n"
     ]
    }
   ],
   "source": [
    "print('Best Parameters:')\n",
    "print(knn_gs.best_params_)\n",
    "print('Best estimator mean cross validated training score:')\n",
    "print(knn_gs.best_score_)\n",
    "print('Best estimator score on the full training set:')\n",
    "print(knn_gs.score(X_train, y_train))\n",
    "print('Best estimator score on the test set:')\n",
    "print(knn_gs.score(X_test, y_test))"
   ]
  },
  {
   "cell_type": "code",
   "execution_count": 29,
   "metadata": {},
   "outputs": [
    {
     "data": {
      "text/plain": [
       "['knn']"
      ]
     },
     "execution_count": 29,
     "metadata": {},
     "output_type": "execute_result"
    }
   ],
   "source": [
    "import joblib\n",
    "joblib.dump( knn_gs, 'knn')"
   ]
  }
 ],
 "metadata": {
  "kernelspec": {
   "display_name": "Python 3",
   "language": "python",
   "name": "python3"
  },
  "language_info": {
   "codemirror_mode": {
    "name": "ipython",
    "version": 3
   },
   "file_extension": ".py",
   "mimetype": "text/x-python",
   "name": "python",
   "nbconvert_exporter": "python",
   "pygments_lexer": "ipython3",
   "version": "3.8.5"
  }
 },
 "nbformat": 4,
 "nbformat_minor": 4
}
