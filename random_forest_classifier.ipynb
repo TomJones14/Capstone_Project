{
 "cells": [
  {
   "cell_type": "markdown",
   "metadata": {},
   "source": [
    "# Random Forest Classifier "
   ]
  },
  {
   "cell_type": "code",
   "execution_count": 1,
   "metadata": {},
   "outputs": [],
   "source": [
    "import pandas as pd\n",
    "import numpy as np\n",
    "import matplotlib\n",
    "import matplotlib.pyplot as plt\n",
    "import seaborn as sns\n",
    "\n",
    "plt.style.use('ggplot')\n",
    "%config InlineBackend.figure_format = 'retina'\n",
    "%matplotlib inline"
   ]
  },
  {
   "cell_type": "code",
   "execution_count": 2,
   "metadata": {},
   "outputs": [],
   "source": [
    "from sklearn.model_selection import GridSearchCV\n",
    "from sklearn.model_selection import train_test_split, cross_val_predict, cross_val_score\n",
    "from sklearn.ensemble import RandomForestRegressor, RandomForestClassifier\n",
    "from sklearn.preprocessing import StandardScaler"
   ]
  },
  {
   "cell_type": "code",
   "execution_count": 3,
   "metadata": {},
   "outputs": [],
   "source": [
    "# laods in data frame as df\n",
    "df = pd.read_csv('/Users/tomjones/Documents/determining shot project/modelling.csv')"
   ]
  },
  {
   "cell_type": "code",
   "execution_count": 4,
   "metadata": {},
   "outputs": [],
   "source": [
    "y = df.pop('shot_outcome') # sets target variable as y and removes it from df\n",
    "X = df # sets remaining df as predictor variables x "
   ]
  },
  {
   "cell_type": "code",
   "execution_count": 6,
   "metadata": {},
   "outputs": [],
   "source": [
    "# creates test train split\n",
    "X_train, X_test, y_train, y_test = train_test_split(X, y,\n",
    "                        stratify=y, test_size=0.3, random_state=1)"
   ]
  },
  {
   "cell_type": "code",
   "execution_count": 7,
   "metadata": {},
   "outputs": [],
   "source": [
    "# standardises predictor vriables \n",
    "scaler = StandardScaler()\n",
    "\n",
    "X_train = scaler.fit_transform(X_train)\n",
    "X_test = scaler.transform(X_test)\n",
    "\n",
    "X_train = pd.DataFrame(X_train, columns=X.columns)\n",
    "X_test = pd.DataFrame(X_test, columns=X.columns)"
   ]
  },
  {
   "cell_type": "code",
   "execution_count": 8,
   "metadata": {},
   "outputs": [],
   "source": [
    "# sets up parameters for grid search\n",
    "params = {'bootstrap': [True],\n",
    "          'max_depth': [10, 20, None],\n",
    "          'max_features': ['auto'],\n",
    "          'criterion' : ['gini', 'entropy'],\n",
    "          'class_weight' : ['balanced', None],\n",
    "          'random_state' : [1],\n",
    "          'min_samples_split': [2, 5, 10]}"
   ]
  },
  {
   "cell_type": "code",
   "execution_count": 9,
   "metadata": {},
   "outputs": [
    {
     "name": "stdout",
     "output_type": "stream",
     "text": [
      "Fitting 5 folds for each of 36 candidates, totalling 180 fits\n"
     ]
    },
    {
     "name": "stderr",
     "output_type": "stream",
     "text": [
      "[Parallel(n_jobs=-1)]: Using backend LokyBackend with 8 concurrent workers.\n",
      "[Parallel(n_jobs=-1)]: Done  16 tasks      | elapsed:   32.1s\n",
      "[Parallel(n_jobs=-1)]: Done 112 tasks      | elapsed:  4.2min\n",
      "[Parallel(n_jobs=-1)]: Done 180 out of 180 | elapsed:  7.1min finished\n"
     ]
    },
    {
     "data": {
      "text/plain": [
       "GridSearchCV(cv=5, estimator=RandomForestClassifier(), n_jobs=-1,\n",
       "             param_grid={'bootstrap': [True],\n",
       "                         'class_weight': ['balanced', None],\n",
       "                         'criterion': ['gini', 'entropy'],\n",
       "                         'max_depth': [10, 20, None], 'max_features': ['auto'],\n",
       "                         'min_samples_split': [2, 5, 10], 'random_state': [1]},\n",
       "             verbose=3)"
      ]
     },
     "execution_count": 9,
     "metadata": {},
     "output_type": "execute_result"
    }
   ],
   "source": [
    "# First create the base model to tune\n",
    "rfc = RandomForestClassifier()\n",
    "# Adds base model to hyper parameters for grid search cv\n",
    "rfc_gs = GridSearchCV(estimator = rfc, param_grid = params, cv = 5, verbose=3, n_jobs = -1)\n",
    "# Fit the random search model\n",
    "rfc_gs.fit(X_train, y_train)"
   ]
  },
  {
   "cell_type": "code",
   "execution_count": 10,
   "metadata": {},
   "outputs": [
    {
     "name": "stdout",
     "output_type": "stream",
     "text": [
      "Best Parameters:\n",
      "{'bootstrap': True, 'class_weight': 'balanced', 'criterion': 'entropy', 'max_depth': 20, 'max_features': 'auto', 'min_samples_split': 5, 'random_state': 1}\n",
      "Best estimator mean cross validated training score:\n",
      "0.9339035998520133\n",
      "Best estimator score on the full training set:\n",
      "0.9839708793664985\n",
      "Best estimator score on the test set:\n",
      "0.9284862932061978\n"
     ]
    }
   ],
   "source": [
    "print('Best Parameters:')\n",
    "print(rfc_gs.best_params_)\n",
    "print('Best estimator mean cross validated training score:')\n",
    "print(rfc_gs.best_score_)\n",
    "print('Best estimator score on the full training set:')\n",
    "print(rfc_gs.score(X_train, y_train))\n",
    "print('Best estimator score on the test set:')\n",
    "print(rfc_gs.score(X_test, y_test))"
   ]
  },
  {
   "cell_type": "code",
   "execution_count": 11,
   "metadata": {},
   "outputs": [],
   "source": [
    "# parameters for tuned grid search \n",
    "params_2 = {'bootstrap': [True],\n",
    "          'max_depth': [15, 20, 25, 30],\n",
    "          'max_features': ['auto'],\n",
    "          'criterion' : ['entropy'],\n",
    "          'class_weight' : ['balanced'],\n",
    "          'random_state' : [1],\n",
    "          'min_samples_split': [4, 5, 6,7]}"
   ]
  },
  {
   "cell_type": "code",
   "execution_count": 12,
   "metadata": {},
   "outputs": [
    {
     "name": "stdout",
     "output_type": "stream",
     "text": [
      "Fitting 5 folds for each of 16 candidates, totalling 80 fits\n"
     ]
    },
    {
     "name": "stderr",
     "output_type": "stream",
     "text": [
      "[Parallel(n_jobs=-2)]: Using backend LokyBackend with 7 concurrent workers.\n",
      "[Parallel(n_jobs=-2)]: Done  18 tasks      | elapsed:   42.1s\n",
      "[Parallel(n_jobs=-2)]: Done  80 out of  80 | elapsed:  3.5min finished\n"
     ]
    },
    {
     "data": {
      "text/plain": [
       "GridSearchCV(cv=5, estimator=RandomForestClassifier(), n_jobs=-2,\n",
       "             param_grid={'bootstrap': [True], 'class_weight': ['balanced'],\n",
       "                         'criterion': ['entropy'],\n",
       "                         'max_depth': [15, 20, 25, 30],\n",
       "                         'max_features': ['auto'],\n",
       "                         'min_samples_split': [4, 5, 6, 7],\n",
       "                         'random_state': [1]},\n",
       "             verbose=3)"
      ]
     },
     "execution_count": 12,
     "metadata": {},
     "output_type": "execute_result"
    }
   ],
   "source": [
    "# Adds base model to tuned parameters for grid search cv\n",
    "rf_gs2 = GridSearchCV(estimator = rf, param_grid = params_2, cv = 5, verbose=3, n_jobs = -2)\n",
    "# Fit the random search model\n",
    "rf_gs2.fit(X_train, y_train)"
   ]
  },
  {
   "cell_type": "code",
   "execution_count": 13,
   "metadata": {},
   "outputs": [
    {
     "name": "stdout",
     "output_type": "stream",
     "text": [
      "Best Parameters:\n",
      "{'bootstrap': True, 'class_weight': 'balanced', 'criterion': 'entropy', 'max_depth': 20, 'max_features': 'auto', 'min_samples_split': 6, 'random_state': 1}\n",
      "Best estimator mean cross validated training score:\n",
      "0.9349254947741714\n",
      "Best estimator score on the full training set:\n",
      "0.9818634650999425\n",
      "Best estimator score on the test set:\n",
      "0.9331048867699643\n"
     ]
    }
   ],
   "source": [
    "print('Best Parameters:')\n",
    "print(rf_gs2.best_params_)\n",
    "print('Best estimator mean cross validated training score:')\n",
    "print(rf_gs2.best_score_)\n",
    "print('Best estimator score on the full training set:')\n",
    "print(rf_gs2.score(X_train, y_train))\n",
    "print('Best estimator score on the test set:')\n",
    "print(rf_gs2.score(X_test, y_test))"
   ]
  },
  {
   "cell_type": "code",
   "execution_count": 26,
   "metadata": {},
   "outputs": [],
   "source": [
    "# creates data frame of the feature importances \n",
    "df_feature = pd.DataFrame(rf_gs2.best_estimator_.feature_importances_)"
   ]
  },
  {
   "cell_type": "code",
   "execution_count": 27,
   "metadata": {},
   "outputs": [],
   "source": [
    "# creates data frame of the 10 most improtant feature variables with their name instead of index number \n",
    "df_feature_importances = pd.DataFrame(zip(X_train.columns,rf_gs2.best_estimator_.feature_importances_)).sort_values(by = 1).tail(10)"
   ]
  },
  {
   "cell_type": "code",
   "execution_count": 28,
   "metadata": {},
   "outputs": [],
   "source": [
    "# renames columns in data frame\n",
    "df_feature_importances.columns = ['Feature','Importance']"
   ]
  },
  {
   "cell_type": "code",
   "execution_count": 29,
   "metadata": {},
   "outputs": [
    {
     "data": {
      "text/html": [
       "<div>\n",
       "<style scoped>\n",
       "    .dataframe tbody tr th:only-of-type {\n",
       "        vertical-align: middle;\n",
       "    }\n",
       "\n",
       "    .dataframe tbody tr th {\n",
       "        vertical-align: top;\n",
       "    }\n",
       "\n",
       "    .dataframe thead th {\n",
       "        text-align: right;\n",
       "    }\n",
       "</style>\n",
       "<table border=\"1\" class=\"dataframe\">\n",
       "  <thead>\n",
       "    <tr style=\"text-align: right;\">\n",
       "      <th></th>\n",
       "      <th>Feature</th>\n",
       "      <th>Importance</th>\n",
       "    </tr>\n",
       "  </thead>\n",
       "  <tbody>\n",
       "    <tr>\n",
       "      <th>3402</th>\n",
       "      <td>area_of_goal_TL</td>\n",
       "      <td>0.012303</td>\n",
       "    </tr>\n",
       "    <tr>\n",
       "      <th>3404</th>\n",
       "      <td>area_of_goal_TR</td>\n",
       "      <td>0.012411</td>\n",
       "    </tr>\n",
       "    <tr>\n",
       "      <th>3400</th>\n",
       "      <td>area_of_goal_BR</td>\n",
       "      <td>0.013371</td>\n",
       "    </tr>\n",
       "    <tr>\n",
       "      <th>151</th>\n",
       "      <td>defenders_infront_of_goal</td>\n",
       "      <td>0.016086</td>\n",
       "    </tr>\n",
       "    <tr>\n",
       "      <th>149</th>\n",
       "      <td>angle_of_shot</td>\n",
       "      <td>0.026322</td>\n",
       "    </tr>\n",
       "    <tr>\n",
       "      <th>150</th>\n",
       "      <td>distance_from_goal</td>\n",
       "      <td>0.029581</td>\n",
       "    </tr>\n",
       "    <tr>\n",
       "      <th>6</th>\n",
       "      <td>duration</td>\n",
       "      <td>0.040603</td>\n",
       "    </tr>\n",
       "    <tr>\n",
       "      <th>3401</th>\n",
       "      <td>area_of_goal_OFF_TARGET</td>\n",
       "      <td>0.071596</td>\n",
       "    </tr>\n",
       "    <tr>\n",
       "      <th>53</th>\n",
       "      <td>pass_shot_assist_2nd</td>\n",
       "      <td>0.088226</td>\n",
       "    </tr>\n",
       "    <tr>\n",
       "      <th>99</th>\n",
       "      <td>pass_shot_assist_3rd</td>\n",
       "      <td>0.094714</td>\n",
       "    </tr>\n",
       "  </tbody>\n",
       "</table>\n",
       "</div>"
      ],
      "text/plain": [
       "                        Feature  Importance\n",
       "3402            area_of_goal_TL    0.012303\n",
       "3404            area_of_goal_TR    0.012411\n",
       "3400            area_of_goal_BR    0.013371\n",
       "151   defenders_infront_of_goal    0.016086\n",
       "149               angle_of_shot    0.026322\n",
       "150          distance_from_goal    0.029581\n",
       "6                      duration    0.040603\n",
       "3401    area_of_goal_OFF_TARGET    0.071596\n",
       "53         pass_shot_assist_2nd    0.088226\n",
       "99         pass_shot_assist_3rd    0.094714"
      ]
     },
     "execution_count": 29,
     "metadata": {},
     "output_type": "execute_result"
    }
   ],
   "source": [
    "df_feature_importances"
   ]
  },
  {
   "cell_type": "code",
   "execution_count": 25,
   "metadata": {},
   "outputs": [
    {
     "data": {
      "text/plain": [
       "['random_forest']"
      ]
     },
     "execution_count": 25,
     "metadata": {},
     "output_type": "execute_result"
    }
   ],
   "source": [
    "import joblib\n",
    "joblib.dump( rf_gs2, 'random_forest')"
   ]
  }
 ],
 "metadata": {
  "kernelspec": {
   "display_name": "Python 3",
   "language": "python",
   "name": "python3"
  },
  "language_info": {
   "codemirror_mode": {
    "name": "ipython",
    "version": 3
   },
   "file_extension": ".py",
   "mimetype": "text/x-python",
   "name": "python",
   "nbconvert_exporter": "python",
   "pygments_lexer": "ipython3",
   "version": "3.8.5"
  }
 },
 "nbformat": 4,
 "nbformat_minor": 4
}
