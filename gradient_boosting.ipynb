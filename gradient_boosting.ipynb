{
 "cells": [
  {
   "cell_type": "markdown",
   "metadata": {},
   "source": [
    "# Gradient Boosting"
   ]
  },
  {
   "cell_type": "code",
   "execution_count": 6,
   "metadata": {},
   "outputs": [],
   "source": [
    "from sklearn.model_selection import train_test_split, cross_val_predict, cross_val_score\n",
    "import pandas as pd\n",
    "import numpy as np\n",
    "\n",
    "from sklearn.ensemble import GradientBoostingClassifier\n",
    "from sklearn.model_selection import GridSearchCV\n",
    "from sklearn.preprocessing import StandardScaler"
   ]
  },
  {
   "cell_type": "code",
   "execution_count": 2,
   "metadata": {},
   "outputs": [],
   "source": [
    "# Loads in data frmae as df\n",
    "df = pd.read_csv('/Users/tomjones/Documents/determining shot project/modelling.csv')"
   ]
  },
  {
   "cell_type": "code",
   "execution_count": 3,
   "metadata": {},
   "outputs": [],
   "source": [
    "y = df.pop('shot_outcome') # sets target variable as shot_outcome and removes from data frame\n",
    "X = df # sets remaining data frame as predictor variables"
   ]
  },
  {
   "cell_type": "code",
   "execution_count": 8,
   "metadata": {},
   "outputs": [],
   "source": [
    "# creates test train split \n",
    "X_train, X_test, y_train, y_test = train_test_split(\n",
    "    X, y, test_size=0.2, random_state=1)"
   ]
  },
  {
   "cell_type": "code",
   "execution_count": 9,
   "metadata": {},
   "outputs": [],
   "source": [
    "# standardises the predictor variables using standard scaler\n",
    "scaler = StandardScaler()\n",
    "\n",
    "X_train = scaler.fit_transform(X_train)\n",
    "X_test = scaler.transform(X_test)\n",
    "\n",
    "X_train = pd.DataFrame(X_train, columns=X.columns)\n",
    "X_test = pd.DataFrame(X_test, columns=X.columns)"
   ]
  },
  {
   "cell_type": "code",
   "execution_count": 7,
   "metadata": {},
   "outputs": [],
   "source": [
    "# sets up base model for grid search\n",
    "gbc = GradientBoostingClassifier()"
   ]
  },
  {
   "cell_type": "code",
   "execution_count": 17,
   "metadata": {},
   "outputs": [],
   "source": [
    "# sets up parameters for grid search cv\n",
    "params = {\"loss\":[\"deviance\"],\n",
    "              \"learning_rate\": [0.5, 0.1, 0.2],\n",
    "              \"min_samples_split\": np.linspace(0.1, 0.5, 5),\n",
    "              \"min_samples_leaf\": np.linspace(0.1, 0.5, 5),\n",
    "              \"max_depth\":[3,5,8],\n",
    "              \"max_features\":[\"log2\",\"sqrt\"],\n",
    "              \"criterion\": [\"friedman_mse\",  \"mae\"],\n",
    "              \"subsample\":[ 0.4, 0.6, 0.8, 1.0],\n",
    "              \"n_estimators\":[10, 100, 500]}"
   ]
  },
  {
   "cell_type": "code",
   "execution_count": 18,
   "metadata": {},
   "outputs": [
    {
     "name": "stdout",
     "output_type": "stream",
     "text": [
      "Fitting 5 folds for each of 10800 candidates, totalling 54000 fits\n"
     ]
    },
    {
     "name": "stderr",
     "output_type": "stream",
     "text": [
      "[Parallel(n_jobs=-1)]: Using backend LokyBackend with 8 concurrent workers.\n",
      "[Parallel(n_jobs=-1)]: Done  16 tasks      | elapsed:    6.4s\n",
      "[Parallel(n_jobs=-1)]: Done 112 tasks      | elapsed:   43.2s\n",
      "[Parallel(n_jobs=-1)]: Done 272 tasks      | elapsed:  1.6min\n",
      "[Parallel(n_jobs=-1)]: Done 496 tasks      | elapsed:  3.0min\n",
      "[Parallel(n_jobs=-1)]: Done 784 tasks      | elapsed:  4.9min\n",
      "[Parallel(n_jobs=-1)]: Done 1136 tasks      | elapsed:  7.1min\n",
      "[Parallel(n_jobs=-1)]: Done 1552 tasks      | elapsed:  9.9min\n",
      "[Parallel(n_jobs=-1)]: Done 2032 tasks      | elapsed: 14.0min\n",
      "[Parallel(n_jobs=-1)]: Done 2576 tasks      | elapsed: 17.8min\n",
      "[Parallel(n_jobs=-1)]: Done 3184 tasks      | elapsed: 21.8min\n",
      "[Parallel(n_jobs=-1)]: Done 3856 tasks      | elapsed: 26.0min\n",
      "[Parallel(n_jobs=-1)]: Done 4592 tasks      | elapsed: 30.9min\n",
      "[Parallel(n_jobs=-1)]: Done 5392 tasks      | elapsed: 37.6min\n",
      "[Parallel(n_jobs=-1)]: Done 6256 tasks      | elapsed: 43.2min\n",
      "[Parallel(n_jobs=-1)]: Done 7184 tasks      | elapsed: 49.1min\n",
      "[Parallel(n_jobs=-1)]: Done 8176 tasks      | elapsed: 56.3min\n",
      "[Parallel(n_jobs=-1)]: Done 9232 tasks      | elapsed: 62.7min\n",
      "/Users/tomjones/opt/anaconda3/lib/python3.8/site-packages/joblib/externals/loky/process_executor.py:688: UserWarning: A worker stopped while some jobs were given to the executor. This can be caused by a too short worker timeout or by a memory leak.\n",
      "  warnings.warn(\n",
      "[Parallel(n_jobs=-1)]: Done 10352 tasks      | elapsed: 87.0min\n",
      "[Parallel(n_jobs=-1)]: Done 11536 tasks      | elapsed: 97.9min\n",
      "[Parallel(n_jobs=-1)]: Done 12784 tasks      | elapsed: 107.3min\n",
      "[Parallel(n_jobs=-1)]: Done 14096 tasks      | elapsed: 118.7min\n",
      "[Parallel(n_jobs=-1)]: Done 15472 tasks      | elapsed: 129.1min\n",
      "[Parallel(n_jobs=-1)]: Done 16912 tasks      | elapsed: 138.7min\n",
      "[Parallel(n_jobs=-1)]: Done 18416 tasks      | elapsed: 148.6min\n",
      "[Parallel(n_jobs=-1)]: Done 19984 tasks      | elapsed: 159.0min\n",
      "[Parallel(n_jobs=-1)]: Done 21616 tasks      | elapsed: 168.6min\n",
      "[Parallel(n_jobs=-1)]: Done 23312 tasks      | elapsed: 179.9min\n",
      "[Parallel(n_jobs=-1)]: Done 25072 tasks      | elapsed: 190.0min\n",
      "[Parallel(n_jobs=-1)]: Done 26896 tasks      | elapsed: 201.9min\n",
      "[Parallel(n_jobs=-1)]: Done 28784 tasks      | elapsed: 358.7min\n",
      "[Parallel(n_jobs=-1)]: Done 30736 tasks      | elapsed: 541.4min\n",
      "[Parallel(n_jobs=-1)]: Done 32752 tasks      | elapsed: 774.0min\n",
      "[Parallel(n_jobs=-1)]: Done 34832 tasks      | elapsed: 950.0min\n",
      "[Parallel(n_jobs=-1)]: Done 36976 tasks      | elapsed: 1135.6min\n",
      "[Parallel(n_jobs=-1)]: Done 39184 tasks      | elapsed: 1364.9min\n",
      "[Parallel(n_jobs=-1)]: Done 41456 tasks      | elapsed: 1612.4min\n",
      "[Parallel(n_jobs=-1)]: Done 43792 tasks      | elapsed: 1827.7min\n",
      "[Parallel(n_jobs=-1)]: Done 46192 tasks      | elapsed: 2055.2min\n",
      "[Parallel(n_jobs=-1)]: Done 48656 tasks      | elapsed: 2339.2min\n",
      "[Parallel(n_jobs=-1)]: Done 51184 tasks      | elapsed: 2585.1min\n",
      "[Parallel(n_jobs=-1)]: Done 53776 tasks      | elapsed: 2849.4min\n",
      "[Parallel(n_jobs=-1)]: Done 54000 out of 54000 | elapsed: 2855.2min finished\n"
     ]
    },
    {
     "data": {
      "text/plain": [
       "GridSearchCV(cv=5, estimator=GradientBoostingClassifier(), n_jobs=-1,\n",
       "             param_grid={'criterion': ['friedman_mse', 'mae'],\n",
       "                         'learning_rate': [0.5, 0.1, 0.2], 'loss': ['deviance'],\n",
       "                         'max_depth': [3, 5, 8],\n",
       "                         'max_features': ['log2', 'sqrt'],\n",
       "                         'min_samples_leaf': array([0.1, 0.2, 0.3, 0.4, 0.5]),\n",
       "                         'min_samples_split': array([0.1, 0.2, 0.3, 0.4, 0.5]),\n",
       "                         'n_estimators': [10, 100, 500],\n",
       "                         'subsample': [0.4, 0.6, 0.8, 1.0]},\n",
       "             verbose=3)"
      ]
     },
     "execution_count": 18,
     "metadata": {},
     "output_type": "execute_result"
    }
   ],
   "source": [
    "# add base model to grid search parameters \n",
    "gbc_gs = GridSearchCV(estimator = gbc, param_grid = params, cv = 5, verbose=3, n_jobs = -1)\n",
    "# Fit the random search model\n",
    "gbc_gs.fit(X_train, y_train)"
   ]
  },
  {
   "cell_type": "code",
   "execution_count": 19,
   "metadata": {},
   "outputs": [
    {
     "name": "stdout",
     "output_type": "stream",
     "text": [
      "Best Parameters:\n",
      "{'criterion': 'friedman_mse', 'learning_rate': 0.5, 'loss': 'deviance', 'max_depth': 5, 'max_features': 'sqrt', 'min_samples_leaf': 0.1, 'min_samples_split': 0.30000000000000004, 'n_estimators': 500, 'subsample': 1.0}\n",
      "Best estimator mean cross validated training score:\n",
      "0.9489828468674343\n",
      "Best estimator score on the full training set:\n",
      "0.9559119356280733\n",
      "Best estimator score on the test set:\n",
      "0.9465921787709497\n"
     ]
    }
   ],
   "source": [
    "print('Best Parameters:')\n",
    "print(gbc_gs.best_params_)\n",
    "print('Best estimator mean cross validated training score:')\n",
    "print(gbc_gs.best_score_)\n",
    "print('Best estimator score on the full training set:')\n",
    "print(gbc_gs.score(X_train, y_train))\n",
    "print('Best estimator score on the test set:')\n",
    "print(gbc_gs .score(X_test, y_test))"
   ]
  },
  {
   "cell_type": "code",
   "execution_count": 28,
   "metadata": {},
   "outputs": [
    {
     "data": {
      "text/plain": [
       "['gradient_boost']"
      ]
     },
     "execution_count": 28,
     "metadata": {},
     "output_type": "execute_result"
    }
   ],
   "source": [
    "# saves model \n",
    "import joblib\n",
    "joblib.dump( model, 'gradient_boost')"
   ]
  }
 ],
 "metadata": {
  "kernelspec": {
   "display_name": "Python 3",
   "language": "python",
   "name": "python3"
  },
  "language_info": {
   "codemirror_mode": {
    "name": "ipython",
    "version": 3
   },
   "file_extension": ".py",
   "mimetype": "text/x-python",
   "name": "python",
   "nbconvert_exporter": "python",
   "pygments_lexer": "ipython3",
   "version": "3.8.5"
  }
 },
 "nbformat": 4,
 "nbformat_minor": 4
}
