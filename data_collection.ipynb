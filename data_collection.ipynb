{
 "cells": [
  {
   "cell_type": "markdown",
   "metadata": {},
   "source": [
    "# Data Collection"
   ]
  },
  {
   "cell_type": "code",
   "execution_count": 136,
   "metadata": {},
   "outputs": [],
   "source": [
    "import pandas as pd\n",
    "import numpy as np\n",
    "from pprint import pprint\n",
    "import requests\n",
    "import json\n",
    "import os\n",
    "import math\n",
    "import matplotlib"
   ]
  },
  {
   "cell_type": "code",
   "execution_count": 87,
   "metadata": {},
   "outputs": [],
   "source": [
    "import json\n",
    "from pandas.io.json import json_normalize\n",
    "import numpy as np\n",
    "import pandas as pd\n",
    "import matplotlib.pyplot as plt\n",
    "from matplotlib.patches import Arc, Rectangle, ConnectionPatch\n",
    "from matplotlib.offsetbox import  OffsetImage\n",
    "from functools import reduce\n",
    "import seaborn as sns"
   ]
  },
  {
   "cell_type": "code",
   "execution_count": 88,
   "metadata": {},
   "outputs": [],
   "source": [
    "# add file names in dataset folder to file list\n",
    "import os\n",
    "file_list =[]\n",
    "for filename in os.listdir('/Users/tomjones/Documents/Capstone/open-data-master/data/events'):\n",
    "    if filename.endswith(\".json\"):\n",
    "        file_list.append(filename)"
   ]
  },
  {
   "cell_type": "code",
   "execution_count": 89,
   "metadata": {},
   "outputs": [],
   "source": [
    "# creates dictionary with game id as the key and game instances as values\n",
    "# instance referes to an event within a game\n",
    "games = {}\n",
    "for file in file_list:\n",
    "    with open('/Users/tomjones/Documents/Capstone/open-data-master/data/events/{}'.format(file), 'r') as fin:\n",
    "        match = json.load(fin)\n",
    "        games[file[:-5]] = match"
   ]
  },
  {
   "cell_type": "code",
   "execution_count": 90,
   "metadata": {},
   "outputs": [],
   "source": [
    "# creates full list of instances with game id within each item dictionary\n",
    "instance_list = []\n",
    "for game_id_key,game in games.items(): \n",
    "    for game_instance in game:\n",
    "        game_instance['game_id'] = game_id_key\n",
    "        instance_list.append(game_instance)"
   ]
  },
  {
   "cell_type": "code",
   "execution_count": 91,
   "metadata": {},
   "outputs": [],
   "source": [
    "# appends shot instance to shot list and their index to index list \n",
    "shots = []\n",
    "index = []\n",
    "c = 0\n",
    "\n",
    "for event in instance_list:\n",
    "    if event['type']['name'] == 'Shot':\n",
    "        shots.append(event)\n",
    "        index.append(c)\n",
    "    c+=1"
   ]
  },
  {
   "cell_type": "code",
   "execution_count": 92,
   "metadata": {},
   "outputs": [],
   "source": [
    "# appends first instances to list using instance index list created above\n",
    "# does this also for second and third instances\n",
    "first_instance =[]\n",
    "second_instance =[]\n",
    "third_instance =[]\n",
    "for i in index:\n",
    "    first_instance.append(instance_list[i-1])\n",
    "    second_instance.append(instance_list[i-2])\n",
    "    third_instance.append(instance_list[i-3])"
   ]
  },
  {
   "cell_type": "code",
   "execution_count": 93,
   "metadata": {},
   "outputs": [
    {
     "name": "stdout",
     "output_type": "stream",
     "text": [
      "number of shots is:  22673\n",
      "number of index is:  22673\n",
      "number of first instances is:  22673\n",
      "number of second instances is:  22673\n",
      "number of third instances is:  22673\n"
     ]
    }
   ],
   "source": [
    "# prints length of instance lists to ensure all the same length\n",
    "print('number of shots is: ', len(shots))\n",
    "print('number of index is: ', len(index))\n",
    "print('number of first instances is: ',len(first_instance))\n",
    "print('number of second instances is: ',len(second_instance))\n",
    "print('number of third instances is: ',len(third_instance))"
   ]
  },
  {
   "cell_type": "code",
   "execution_count": 94,
   "metadata": {},
   "outputs": [],
   "source": [
    "# creates dictionary for .JSON normalize\n",
    "dictionary = {'shot': shots, '1st': first_instance, '2nd':second_instance, '3rd':third_instance}"
   ]
  },
  {
   "cell_type": "code",
   "execution_count": 95,
   "metadata": {},
   "outputs": [],
   "source": [
    "# JSON normalises each dataframe for later concat\n",
    "df_shot = pd.json_normalize(dictionary['shot'])\n",
    "df_1st = pd.json_normalize(dictionary['1st'])\n",
    "df_2nd = pd.json_normalize(dictionary['2nd'])\n",
    "df_3rd = pd.json_normalize(dictionary['3rd'])"
   ]
  },
  {
   "cell_type": "code",
   "execution_count": 96,
   "metadata": {},
   "outputs": [],
   "source": [
    "# JSON normalise creates headings with . for spaces so replace with_\n",
    "# replaces . with _ in df_shot headings\n",
    "list_shot_head = df_shot.columns\n",
    "final_list_shot_head =[]\n",
    "for head in list_shot_head:\n",
    "    head = head.replace('.','_')\n",
    "    final_list_shot_head.append(head)\n",
    "df_shot.columns = final_list_shot_head"
   ]
  },
  {
   "cell_type": "code",
   "execution_count": 97,
   "metadata": {},
   "outputs": [],
   "source": [
    "# adds _1st on the end of headings in df_1st so doesn't overwrite columns when concating all dataframes together \n",
    "list_1st_head = []\n",
    "old_df_first_head = df_1st.columns\n",
    "for head in old_df_first_head:\n",
    "    list_1st_head.append(head + '_1st')\n",
    "df_1st.columns = list_1st_head"
   ]
  },
  {
   "cell_type": "code",
   "execution_count": 98,
   "metadata": {},
   "outputs": [],
   "source": [
    "# replaces . with _ in df_1st headings\n",
    "final_list_1st_head =[]\n",
    "for head in list_1st_head:\n",
    "    head = head.replace('.','_')\n",
    "    final_list_1st_head.append(head)\n",
    "df_1st.columns = final_list_1st_head"
   ]
  },
  {
   "cell_type": "code",
   "execution_count": 99,
   "metadata": {},
   "outputs": [],
   "source": [
    "# adds _2nd on the end of headings in df_2nd\n",
    "list_2nd_head = []\n",
    "old_df_second_head = df_2nd.columns\n",
    "for head in old_df_second_head:\n",
    "    list_2nd_head.append(head + '_2nd')\n",
    "df_2nd.columns = list_2nd_head"
   ]
  },
  {
   "cell_type": "code",
   "execution_count": 100,
   "metadata": {},
   "outputs": [],
   "source": [
    "# replaces . with _ in df_2nd headings\n",
    "final_list_2nd_head =[]\n",
    "for head in list_2nd_head:\n",
    "    head = head.replace('.','_')\n",
    "    final_list_2nd_head.append(head)\n",
    "df_2nd.columns = final_list_2nd_head"
   ]
  },
  {
   "cell_type": "code",
   "execution_count": 101,
   "metadata": {},
   "outputs": [],
   "source": [
    "# adds _3rd on the end of headings in df_3rd\n",
    "list_3rd_head = []\n",
    "old_df_third_head = df_3rd.columns\n",
    "for head in old_df_third_head:\n",
    "    head = head.replace('.','_')\n",
    "    list_3rd_head.append(head + '_3rd')"
   ]
  },
  {
   "cell_type": "code",
   "execution_count": 102,
   "metadata": {},
   "outputs": [],
   "source": [
    "# replaces . with _ in df_3rd headings\n",
    "final_list_3rd_head =[]\n",
    "for head in list_3rd_head:\n",
    "    head = head.replace('.','_')\n",
    "    final_list_3rd_head.append(head)\n",
    "df_3rd.columns = final_list_3rd_head"
   ]
  },
  {
   "cell_type": "code",
   "execution_count": 103,
   "metadata": {},
   "outputs": [],
   "source": [
    "# concats all dataframes into one\n",
    "df = pd.concat([df_shot, df_1st, df_2nd, df_3rd], axis =1)"
   ]
  },
  {
   "cell_type": "code",
   "execution_count": 104,
   "metadata": {},
   "outputs": [
    {
     "data": {
      "text/plain": [
       "302"
      ]
     },
     "execution_count": 104,
     "metadata": {},
     "output_type": "execute_result"
    }
   ],
   "source": [
    "# number of null values in shot_freeze_frame\n",
    "df.shot_freeze_frame.isnull().sum()"
   ]
  },
  {
   "cell_type": "code",
   "execution_count": 105,
   "metadata": {},
   "outputs": [],
   "source": [
    "# shot_freeze_frame gives the player locations co-ordinates of teammates\n",
    "# There are 302 missing values so must be dropped"
   ]
  },
  {
   "cell_type": "code",
   "execution_count": 106,
   "metadata": {},
   "outputs": [],
   "source": [
    "# drops NaN values from shot_freeze_frame column\n",
    "df = df[df['shot_freeze_frame'].notna()]"
   ]
  },
  {
   "cell_type": "markdown",
   "metadata": {},
   "source": [
    "# Cleaning"
   ]
  },
  {
   "cell_type": "code",
   "execution_count": 107,
   "metadata": {},
   "outputs": [],
   "source": [
    "# all columns headings with 'name' in the name require none values inplace of NaN values\n",
    "# creates list of column headings which require None inplace of NaN values\n",
    "name_heading_list = list(df[[col for col in df if 'name'in col]].columns)"
   ]
  },
  {
   "cell_type": "code",
   "execution_count": 108,
   "metadata": {},
   "outputs": [],
   "source": [
    "# Replaces NaN values with none for name heading list\n",
    "df[name_heading_list] = df[name_heading_list].fillna('None')"
   ]
  },
  {
   "cell_type": "code",
   "execution_count": 109,
   "metadata": {},
   "outputs": [],
   "source": [
    "# column headings with id in can be dropped apart from game_id\n",
    "# game_id allows stats from specific games to be easily extracted\n",
    "# creates list of columns with id in the name\n",
    "drop_id = list(df[[col for col in df if 'id'in col]].columns)\n",
    "drop_id.remove('game_id')"
   ]
  },
  {
   "cell_type": "code",
   "execution_count": 110,
   "metadata": {},
   "outputs": [],
   "source": [
    "# drops id column list from dataframe \n",
    "df.drop(columns = drop_id, inplace = True)"
   ]
  },
  {
   "cell_type": "code",
   "execution_count": 111,
   "metadata": {},
   "outputs": [],
   "source": [
    "# all remaining columns with NaN values are Boolean dtypes so require False inplace of NaN\n",
    "# creates list of column headings that require this\n",
    "replace_with_false = [col for col in df.columns if col not in name_heading_list]"
   ]
  },
  {
   "cell_type": "code",
   "execution_count": 112,
   "metadata": {},
   "outputs": [],
   "source": [
    "# replaces NaN values with False for replace_with_false columns list\n",
    "df[replace_with_false] = df[replace_with_false].fillna(False)"
   ]
  },
  {
   "cell_type": "code",
   "execution_count": 113,
   "metadata": {},
   "outputs": [],
   "source": [
    "# converts shot locations to from object dtype to float dtype\n",
    "# coordinates come pre mainpulated so all shots are at the same end of the pitch\n",
    "df['location'] = df['location'].apply(lambda x: [float(x[0]), float(x[1])])"
   ]
  },
  {
   "cell_type": "markdown",
   "metadata": {},
   "source": [
    "# EDA"
   ]
  },
  {
   "cell_type": "code",
   "execution_count": 114,
   "metadata": {},
   "outputs": [],
   "source": [
    "# pulls player location co-ordinates for opposition players in shot_freeze_frame\n",
    "def pull_opposition_player_locations(cell):\n",
    "    player_locations = []\n",
    "    for i in range (len(cell)):\n",
    "        if cell[i]['teammate'] == False:\n",
    "            if cell[i]['position']['name'] != 'Goalkeeper': \n",
    "                try:\n",
    "                    player_locations.append(cell[i]['location'])\n",
    "                except:\n",
    "                    player_locations.append(np.nan)\n",
    "    return player_locations"
   ]
  },
  {
   "cell_type": "code",
   "execution_count": 115,
   "metadata": {},
   "outputs": [],
   "source": [
    "# Applies pull_opposition_player_locations function to shot_freeze_frame and creates new column with opposition player locations at time of shot as a list\n",
    "df['opposition_player_locations'] = df['shot_freeze_frame'].apply(pull_opposition_player_locations)"
   ]
  },
  {
   "cell_type": "code",
   "execution_count": 116,
   "metadata": {},
   "outputs": [],
   "source": [
    "# pulls teammate player locations \n",
    "# if teammate goalkeeper is up for a corner assumes he's outfeild player\n",
    "def pull_teammate_locations(cell):\n",
    "    player_locations = []\n",
    "    for i in range (len(cell)):\n",
    "        if cell[i]['teammate'] == True:\n",
    "                try:\n",
    "                    player_locations.append(cell[i]['location'])\n",
    "                except:\n",
    "                    player_locations.append(np.nan)\n",
    "    return player_locations"
   ]
  },
  {
   "cell_type": "code",
   "execution_count": 117,
   "metadata": {},
   "outputs": [],
   "source": [
    "# applies pull_teammate_locationss to shot_freeze_frame and creates new column with teammate locations as a list\n",
    "df['player_locations'] = df['shot_freeze_frame'].apply(pull_teammate_locations)"
   ]
  },
  {
   "cell_type": "code",
   "execution_count": 118,
   "metadata": {},
   "outputs": [],
   "source": [
    "# pulls opponent goalkeeper position\n",
    "def pull_goalkeeper_position(cell): \n",
    "    for i in range (len(cell)):\n",
    "        if cell[i]['teammate'] == False:\n",
    "            if cell[i]['position']['name'] == 'Goalkeeper':\n",
    "                    try:\n",
    "                        return cell[i]['location']\n",
    "                    except:\n",
    "                        return np.nan"
   ]
  },
  {
   "cell_type": "code",
   "execution_count": 119,
   "metadata": {},
   "outputs": [],
   "source": [
    "# applies pull_goalkeeper_position to shot_freeze_frame and creates column with opposition goalkeeper co-ordinates \n",
    "df['goalkeeper_location'] = df['shot_freeze_frame'].apply(pull_goalkeeper_position)"
   ]
  },
  {
   "cell_type": "code",
   "execution_count": 120,
   "metadata": {},
   "outputs": [],
   "source": [
    "# target variable is the outcome of the shot and needs converting to 1s & 0s for modeling\n",
    "# if shot outcome is goal returns 1 else returns 0 \n",
    "def target_variable (cell):\n",
    "    if cell == 'Goal':\n",
    "        cell = 1\n",
    "    else:\n",
    "        cell = 0\n",
    "    return cell"
   ]
  },
  {
   "cell_type": "code",
   "execution_count": 121,
   "metadata": {},
   "outputs": [],
   "source": [
    "# converts shot_outcome to 1s & 0s using target_variable function\n",
    "df.shot_outcome_name = df.shot_outcome_name.apply(target_variable)\n",
    "df['shot_outcome'] = df.shot_outcome_name"
   ]
  },
  {
   "cell_type": "code",
   "execution_count": 122,
   "metadata": {},
   "outputs": [],
   "source": [
    "# draws football pitch on axis for base of diagrams\n",
    "def draw_pitch(ax):\n",
    "    # focus on only half of the pitch\n",
    "    #Pitch Outline & Centre Line\n",
    "    # Pitch = Rectangle([0,0], width = 120, height = 80, fill = False)\n",
    "    #Left, Right Penalty Area and midline\n",
    "    LeftPenalty = Rectangle([0,22.3], width = 14.6, height = 35.3, fill = False)\n",
    "    RightPenalty = Rectangle([105.4,22.3], width = 14.6, height = 35.3, fill = False)\n",
    "    midline = ConnectionPatch([60,0], [60,80], \"data\", \"data\")\n",
    "\n",
    "    #Left, Right 6-yard Box\n",
    "    LeftSixYard = Rectangle([0,32], width = 4.9, height = 16, fill = False)\n",
    "    RightSixYard = Rectangle([115.1,32], width = 4.9, height = 16, fill = False)\n",
    "\n",
    "\n",
    "    #Prepare Circles\n",
    "    centreCircle = plt.Circle((60,40),8.1,color=\"black\", fill = False)\n",
    "    centreSpot = plt.Circle((60,40),0.71,color=\"black\")\n",
    "    #Penalty spots and Arcs around penalty boxes\n",
    "    leftPenSpot = plt.Circle((9.7,40),0.71,color=\"black\")\n",
    "    rightPenSpot = plt.Circle((110.3,40),0.71,color=\"black\")\n",
    "    leftArc = Arc((9.7,40),height=16.2,width=16.2,angle=0,theta1=310,theta2=50,color=\"black\")\n",
    "    rightArc = Arc((110.3,40),height=16.2,width=16.2,angle=0,theta1=130,theta2=230,color=\"black\")\n",
    "    \n",
    "  \n",
    "    element = [LeftPenalty, RightPenalty, midline, LeftSixYard, RightSixYard, centreCircle, \n",
    "               centreSpot, rightPenSpot, leftPenSpot, leftArc, rightArc]\n",
    "    for i in element:\n",
    "        ax.add_patch(i)"
   ]
  },
  {
   "cell_type": "code",
   "execution_count": 123,
   "metadata": {},
   "outputs": [],
   "source": [
    "# draws football pitch on axis for base of diagrams split into 2 sections\n",
    "def split_pitch(ax):\n",
    "    # focus on only half of the pitch\n",
    "    #Pitch Outline & Centre Line\n",
    "    # Pitch = Rectangle([0,0], width = 120, height = 80, fill = False)\n",
    "    #Left, Right Penalty Area and midline\n",
    "    LeftPenalty = Rectangle([0,22.3], width = 14.6, height = 35.3, fill = False)\n",
    "    RightPenalty = Rectangle([105.4,22.3], width = 14.6, height = 35.3, fill = False)\n",
    "    midline = ConnectionPatch([60,0], [60,80], \"data\", \"data\")\n",
    "\n",
    "    #Left, Right 6-yard Box\n",
    "    LeftSixYard = Rectangle([0,32], width = 4.9, height = 16, fill = False)\n",
    "    RightSixYard = Rectangle([115.1,32], width = 4.9, height = 16, fill = False)\n",
    "\n",
    "\n",
    "    #Prepare Circles\n",
    "    centreCircle = plt.Circle((60,40),8.1,color=\"black\", fill = False)\n",
    "    centreSpot = plt.Circle((60,40),0.71,color=\"black\")\n",
    "    #Penalty spots and Arcs around penalty boxes\n",
    "    leftPenSpot = plt.Circle((9.7,40),0.71,color=\"black\")\n",
    "    rightPenSpot = plt.Circle((110.3,40),0.71,color=\"black\")\n",
    "    leftArc = Arc((9.7,40),height=16.2,width=16.2,angle=0,theta1=310,theta2=50,color=\"black\")\n",
    "    rightArc = Arc((110.3,40),height=16.2,width=16.2,angle=0,theta1=130,theta2=230,color=\"black\")\n",
    "    \n",
    "    # draws top section of pitch in red\n",
    "    Topsection = Rectangle([0,40], width = 120, height = 40, fill = False, color ='red')\n",
    "    # draws bottom section of pitch in blue\n",
    "    Bottomsection = Rectangle([0,0], width = 120, height = 39.5, fill = False, color ='blue')\n",
    "    \n",
    "    element = [LeftPenalty, RightPenalty, midline, LeftSixYard, RightSixYard, centreCircle, \n",
    "               centreSpot, rightPenSpot, leftPenSpot, leftArc, rightArc,Topsection, Bottomsection]\n",
    "    for i in element:\n",
    "        ax.add_patch(i)"
   ]
  },
  {
   "cell_type": "code",
   "execution_count": 124,
   "metadata": {},
   "outputs": [
    {
     "name": "stderr",
     "output_type": "stream",
     "text": [
      "/Users/tomjones/opt/anaconda3/lib/python3.8/site-packages/seaborn/_decorators.py:36: FutureWarning: Pass the following variables as keyword args: x, y. From version 0.12, the only valid positional argument will be `data`, and passing other arguments without an explicit keyword will result in an error or misinterpretation.\n",
      "  warnings.warn(\n",
      "/Users/tomjones/opt/anaconda3/lib/python3.8/site-packages/seaborn/_decorators.py:36: FutureWarning: Pass the following variables as keyword args: x, y. From version 0.12, the only valid positional argument will be `data`, and passing other arguments without an explicit keyword will result in an error or misinterpretation.\n",
      "  warnings.warn(\n"
     ]
    },
    {
     "data": {
      "image/png": "[encoded data removed]",
      "text/plain": [
       "<Figure size 504x360 with 2 Axes>"
      ]
     },
     "metadata": {
      "needs_background": "light"
     },
     "output_type": "display_data"
    }
   ],
   "source": [
    "# plots figure 1 diagram for angle_of_shot and distance from goal\n",
    "\n",
    "fig, ax = plt.subplots()\n",
    "fig.set_size_inches(7, 5)\n",
    "\n",
    "ax=fig.add_subplot(1,1,1)\n",
    "split_pitch(ax) #overlay our different objects on the pitch\n",
    "plt.ylim(-2, 82)\n",
    "plt.xlim(-2, 122)\n",
    "plt.axis('off')\n",
    "plt.title('Figure 1 Angle & Distance From Goal')\n",
    "\n",
    "# gives distance to cnetre of goal from a shot location\n",
    "line_1 = plt.arrow(101.1, 48.4, 120.0-101.1, 40 - 48.4  ,color = 'green', lw=1)\n",
    "plt.gca().add_line(line_1)\n",
    "\n",
    "# shot location\n",
    "sns.scatterplot([101.1], [48.4], color = \"green\")\n",
    "plt.text(101.1,48.4,'Example Shot Location',horizontalalignment='right')\n",
    "\n",
    "# centre of goal\n",
    "sns.scatterplot([120], [40], color = \"green\")\n",
    "plt.text(120, 40,'Centre of Goal')\n",
    "\n",
    "plt.show()"
   ]
  },
  {
   "cell_type": "code",
   "execution_count": 125,
   "metadata": {},
   "outputs": [],
   "source": [
    "# determines the angel of the shot from the shot location to the centre of the goal\n",
    "# Given as the angle of the green line in figure 1 above\n",
    "def angle_from_goal(cell):\n",
    "    try:\n",
    "        if cell[0] != 120:\n",
    "            if cell[1] < 40: \n",
    "                # quandrant 1 (0-120,0-40) seen in blue above\n",
    "                o = 40 - cell[1]\n",
    "                a = 120 - cell[0]\n",
    "                x = math.degrees(math.atan(o/a))\n",
    "                return x\n",
    "            elif cell[1] > 40: \n",
    "                # quandrant 2 (0-120,40-80) seen in red above\n",
    "                o = 80 - cell[1]\n",
    "                a = 120 - cell[0]\n",
    "                x = math.degrees(math.atan(o/a))\n",
    "                return x\n",
    "            else:\n",
    "                return 0\n",
    "        else:\n",
    "            return 0 \n",
    "    except:\n",
    "        return np.nan"
   ]
  },
  {
   "cell_type": "code",
   "execution_count": 126,
   "metadata": {},
   "outputs": [],
   "source": [
    "# creates column angle_of_shot using angle_from_goal by applying it to shot location\n",
    "# all shots are at the same goal for comparison\n",
    "df['angle_of_shot'] = df.location.apply(angle_from_goal)"
   ]
  },
  {
   "cell_type": "code",
   "execution_count": 127,
   "metadata": {},
   "outputs": [],
   "source": [
    "# calculates distance from shot location to centre of goal using pythagoras theorem\n",
    "# Given as the length of the green line in figure 1 above\n",
    "\n",
    "from math import sqrt\n",
    "\n",
    "def distance_to_goal(cell):\n",
    "    if cell[1] < 40: # for top segment of pitch\n",
    "        a = (120 - cell[0])**2\n",
    "        b = (40 - cell[1])**2\n",
    "        return sqrt(a+b)\n",
    "    else:\n",
    "        a = (120 - cell[0])**2\n",
    "        b = (80 - cell[1])**2\n",
    "        return sqrt(a+b)"
   ]
  },
  {
   "cell_type": "code",
   "execution_count": 128,
   "metadata": {},
   "outputs": [],
   "source": [
    "# creates column distance_to_goal using distance_to_goal function \n",
    "df['distance_from_goal'] = df.location.apply(distance_to_goal)"
   ]
  },
  {
   "cell_type": "code",
   "execution_count": 129,
   "metadata": {},
   "outputs": [
    {
     "name": "stderr",
     "output_type": "stream",
     "text": [
      "/Users/tomjones/opt/anaconda3/lib/python3.8/site-packages/seaborn/_decorators.py:36: FutureWarning: Pass the following variables as keyword args: x, y. From version 0.12, the only valid positional argument will be `data`, and passing other arguments without an explicit keyword will result in an error or misinterpretation.\n",
      "  warnings.warn(\n",
      "/Users/tomjones/opt/anaconda3/lib/python3.8/site-packages/seaborn/_decorators.py:36: FutureWarning: Pass the following variables as keyword args: x, y. From version 0.12, the only valid positional argument will be `data`, and passing other arguments without an explicit keyword will result in an error or misinterpretation.\n",
      "  warnings.warn(\n",
      "/Users/tomjones/opt/anaconda3/lib/python3.8/site-packages/seaborn/_decorators.py:36: FutureWarning: Pass the following variables as keyword args: x, y. From version 0.12, the only valid positional argument will be `data`, and passing other arguments without an explicit keyword will result in an error or misinterpretation.\n",
      "  warnings.warn(\n",
      "/Users/tomjones/opt/anaconda3/lib/python3.8/site-packages/seaborn/_decorators.py:36: FutureWarning: Pass the following variables as keyword args: x, y. From version 0.12, the only valid positional argument will be `data`, and passing other arguments without an explicit keyword will result in an error or misinterpretation.\n",
      "  warnings.warn(\n",
      "/Users/tomjones/opt/anaconda3/lib/python3.8/site-packages/seaborn/_decorators.py:36: FutureWarning: Pass the following variables as keyword args: x, y. From version 0.12, the only valid positional argument will be `data`, and passing other arguments without an explicit keyword will result in an error or misinterpretation.\n",
      "  warnings.warn(\n"
     ]
    },
    {
     "data": {
      "image/png": "[encoded data removed]",
      "text/plain": [
       "<Figure size 504x360 with 2 Axes>"
      ]
     },
     "metadata": {
      "needs_background": "light"
     },
     "output_type": "display_data"
    }
   ],
   "source": [
    "# plots figure 2 diagram for defenders infront of goal\n",
    "\n",
    "fig, ax = plt.subplots()\n",
    "fig.set_size_inches(7, 5)\n",
    "\n",
    "ax=fig.add_subplot(1,1,1)\n",
    "draw_pitch(ax) #overlay our different objects on the pitch\n",
    "plt.ylim(-2, 82)\n",
    "plt.xlim(-2, 122)\n",
    "plt.axis('off')\n",
    "plt.title('Figure 2 Defenders Infront of Goal')\n",
    "\n",
    "# line from shot location to post\n",
    "line_1 = plt.arrow(101.1, 48.4, 120.0-101.1, 44 - 48.4  ,color = 'green', lw=1)\n",
    "plt.gca().add_line(line_1)\n",
    "\n",
    "# line from shot location to other post\n",
    "line_2 = plt.arrow(101.1, 48.4, 120.0-101.1, 36 - 48.4  ,color = 'green', lw=1)\n",
    "plt.gca().add_line(line_2)\n",
    "\n",
    "# shot location\n",
    "sns.scatterplot([101.1], [48.4], color = \"green\")\n",
    "plt.text(101.1,48.4,'Example Shot Location', horizontalalignment='right')\n",
    "\n",
    "# Goal Post\n",
    "sns.scatterplot([120], [44], color = \"green\")\n",
    "plt.text(120, 44,'Goal Post')\n",
    "\n",
    "# Goal Post\n",
    "sns.scatterplot([120], [36], color = \"green\")\n",
    "plt.text(120, 36,'Goal Post')\n",
    "\n",
    "# Defender 1\n",
    "sns.scatterplot([117], [40], color = \"blue\")\n",
    "\n",
    "# Defender 2\n",
    "sns.scatterplot([110], [45], color = \"blue\")\n",
    "\n",
    "# defenders infront of goal label\n",
    "plt.text(109, 40,'Defenders infront of goal = 2', color ='blue', horizontalalignment='right')\n",
    "\n",
    "plt.show()"
   ]
  },
  {
   "cell_type": "code",
   "execution_count": 130,
   "metadata": {},
   "outputs": [],
   "source": [
    "# goal posts (120, 36) to (120,44)\n",
    "# creates triangle between shot location and 2 posts as seen in figure 2 above\n",
    "# uses shapely to determine number of opposition players in triangle not including opposition goalkeeper\n",
    "\n",
    "# i = shot location \n",
    "# j = opposition players \n",
    "\n",
    "from shapely.geometry import Point\n",
    "from shapely.geometry.polygon import Polygon\n",
    "\n",
    "def defenders_infront_of_goal(i, j):\n",
    "    triangle = Polygon([(i), (120, 36), (120, 44)])\n",
    "    defender_list = []\n",
    "    for player in j:\n",
    "        point = Point(player)\n",
    "        if triangle.contains(point) == True:\n",
    "            defender_list.append(1)\n",
    "        else:\n",
    "            defender_list.append(0)\n",
    "    return sum(defender_list)"
   ]
  },
  {
   "cell_type": "code",
   "execution_count": 131,
   "metadata": {},
   "outputs": [],
   "source": [
    "# creates ;ist of values for how many defenders in front of goal for concat with main dataframe\n",
    "players_infront_of_goal_list = []\n",
    "for i in range(len(df)):\n",
    "    players_infront_of_goal_list.append(defenders_infront_of_goal(df.location.iloc[i], df.opposition_player_locations.iloc[i]))"
   ]
  },
  {
   "cell_type": "code",
   "execution_count": 132,
   "metadata": {},
   "outputs": [],
   "source": [
    "# added players_infront_of_goal_list to main dataframe \n",
    "df['defenders_infront_of_goal']= players_infront_of_goal_list"
   ]
  },
  {
   "cell_type": "code",
   "execution_count": 133,
   "metadata": {},
   "outputs": [],
   "source": [
    "# converts shot end location from 3D arrary in the x,y,z plane to 2D array in y,z plane\n",
    "# y,z plane gives face of goal\n",
    "def goal_location(cell):\n",
    "    if len(cell) == 3:\n",
    "        return [cell[1], cell[2]]\n",
    "    elif len(cell) ==2:\n",
    "        return [cell[-1], 0] # missing dimensions in array are given as zero so need to be added to array\n",
    "    else:\n",
    "        return np.nan"
   ]
  },
  {
   "cell_type": "code",
   "execution_count": 134,
   "metadata": {},
   "outputs": [],
   "source": [
    "# converts shot_end_location from 3D array to 2D array in yz plane for face of goal\n",
    "df['shot_end_location'] = df['shot_end_location'].apply(goal_location)"
   ]
  },
  {
   "cell_type": "code",
   "execution_count": 137,
   "metadata": {},
   "outputs": [
    {
     "data": {
      "image/png": "[encoded data removed]",
      "text/plain": [
       "<Figure size 432x288 with 1 Axes>"
      ]
     },
     "metadata": {
      "needs_background": "light"
     },
     "output_type": "display_data"
    }
   ],
   "source": [
    "# Plots figure 3 area of goal diagram \n",
    "\n",
    "fig = plt.figure() \n",
    "ax = fig.add_subplot(111) \n",
    "  \n",
    "# Top left \n",
    "TL = matplotlib.patches.Rectangle((36, 1.335), 2.7, 2.67-1.335, fill = False, color ='red') \n",
    "plt.text(37.35, 2,'Top Left', horizontalalignment='center')\n",
    "\n",
    "# Bottom left\n",
    "BL = matplotlib.patches.Rectangle((36,0), 2.7, 1.335, fill = False, color ='red')\n",
    "plt.text(37.35, 0.667,'Bottom Left', horizontalalignment='center')\n",
    "\n",
    "# Top middle\n",
    "TM = matplotlib.patches.Rectangle((38.7,1.335), 2.6, 2.67-1.335, fill = False, color ='red')\n",
    "plt.text(40, 2,'Top Middle', horizontalalignment='center')\n",
    "\n",
    "# Bottum middle\n",
    "BM = matplotlib.patches.Rectangle((38.7,0), 2.6, 2.67-1.335, fill = False, color ='red')\n",
    "plt.text(40, 0.667,'Bottom Middle', horizontalalignment='center')\n",
    "\n",
    "# Top right\n",
    "TR = matplotlib.patches.Rectangle((41.3,1.335), 2.7, 2.67-1.335, fill = False, color ='red')\n",
    "plt.text(42.65, 2,'Top Right', horizontalalignment='center')\n",
    "\n",
    "# Bottum right\n",
    "BR = matplotlib.patches.Rectangle((41.3,0), 2.7, 1.335, fill = False, color ='red')\n",
    "plt.text(42.65, 0.667,'Bottom Middle', horizontalalignment='center')\n",
    "\n",
    "# Goal Frame\n",
    "plt.text(40, 2.8,'Frame of Goal', horizontalalignment='center')\n",
    "plt.plot([35.95,44], [2.7,2.7], lw=4, color ='black')\n",
    "plt.plot([35.95,35.95], [0,2.7], lw=4, color ='black')\n",
    "plt.plot([44.05,44.05], [0,2.7], lw=4, color ='black')\n",
    "\n",
    "ax.add_patch(TL) \n",
    "ax.add_patch(BL) \n",
    "ax.add_patch(TM)\n",
    "ax.add_patch(BM)\n",
    "ax.add_patch(TR)\n",
    "ax.add_patch(BR)\n",
    "plt.title('Figure 3 Area of Goal')\n",
    "  \n",
    "plt.xlim([35, 45]) \n",
    "plt.ylim([-0.33, 3]) \n",
    "  \n",
    "plt.show() "
   ]
  },
  {
   "cell_type": "code",
   "execution_count": 138,
   "metadata": {},
   "outputs": [],
   "source": [
    "# goal split into 6 equal segments \n",
    "# Top left of goal - TL = (36, 2.67), (38.7, 2.67), (38.7,1.335) , (36,1.335)\n",
    "# Bottom left of goal - BL = (38.7,1.335) , (36,1.335), (38.7,0), (36,0)\n",
    "# Top middle of goal - TM = (38.7, 2.67), (41.3, 2.67), (38.7,1.335) , (41.3,1.335)\n",
    "# Bottum middle - BM = (38.7,1.335), (41.3,1.335), (38.7,0), (41.3,0)\n",
    "# Top rright - TR = (41.3,1.335), (41.3, 2.67), (44, 2.67), (44,1.335)\n",
    "# Bottum right - BR = (44, 1.335), (44, 0), (41.3,1.335), (41.3,0) \n",
    "# uses shapley to determine which area of goal the shot ends in and replaces it with label\n",
    "# see figure 3 above\n",
    "\n",
    "def area_of_goal(cell):\n",
    "    top_left = Polygon([(36, 2.67), (38.7, 2.67), (38.7,1.335), (36,1.335)])\n",
    "    bottom_left = Polygon([(38.7,1.335) , (36,1.335), (38.7,0), (36,0)])\n",
    "    top_mid = Polygon([(38.7, 2.67), (41.3, 2.67), (38.7,1.335), (41.3,1.335)])\n",
    "    bottom_mid = Polygon([(38.7,1.335), (41.3,1.335), (38.7,0), (41.3,0)])\n",
    "    top_right = Polygon([(41.3,1.335), (41.3, 2.67), (44, 2.67), (44,1.335)])\n",
    "    bottom_right = Polygon([(44, 1.335), (44, 0), (41.3,1.335), (41.3,0)])\n",
    "    point = Point(cell)\n",
    "    if top_left.contains(point) == True:\n",
    "        return 'TL'\n",
    "    elif bottom_left.contains(point) == True:\n",
    "        return 'BL'\n",
    "    elif top_mid.contains(point) == True:\n",
    "        return 'TM'\n",
    "    elif bottom_mid.contains(point) == True:\n",
    "        return 'BM'\n",
    "    elif top_right.contains(point) == True:\n",
    "        return 'TR'\n",
    "    elif bottom_right.contains(point) == True:\n",
    "        return 'BR'\n",
    "    else:\n",
    "        return 'OFF_TARGET'"
   ]
  },
  {
   "cell_type": "code",
   "execution_count": 139,
   "metadata": {},
   "outputs": [],
   "source": [
    "# converts shot_end_location to an area of the goal using area_of_goal function above\n",
    "df['area_of_goal'] = df['shot_end_location'].apply(area_of_goal)"
   ]
  },
  {
   "cell_type": "code",
   "execution_count": 140,
   "metadata": {},
   "outputs": [],
   "source": [
    "# saves dataframe to csv\n",
    "df.to_csv('visualisation.csv')"
   ]
  },
  {
   "cell_type": "markdown",
   "metadata": {},
   "source": [
    "# Columns to Drop"
   ]
  },
  {
   "cell_type": "code",
   "execution_count": 67,
   "metadata": {},
   "outputs": [],
   "source": [
    "df.drop(columns = ['timestamp',\n",
    "'location',\n",
    "'related_events',\n",
    "'shot_end_location',\n",
    "'shot_freeze_frame',\n",
    "'timestamp_1st',\n",
    "'duration_1st',\n",
    "'related_events_1st',\n",
    "'possession_team_name_1st',\n",
    "'player_name_1st',\n",
    "'carry_end_location_1st',\n",
    "'pass_length_1st',\n",
    "'pass_angle_1st',\n",
    "'pass_end_location_1st',\n",
    "'tactics_lineup_1st',\n",
    "'location_1st',\n",
    "'goalkeeper_end_location_1st',\n",
    "'substitution_replacement_name_1st',\n",
    "'shot_statsbomb_xg_1st',\n",
    "'shot_end_location_1st',\n",
    "'shot_freeze_frame_1st',\n",
    "'timestamp_2nd',\n",
    "'location_2nd',\n",
    "'related_events_2nd',\n",
    "'possession_team_name_2nd',\n",
    "'team_name_2nd',\n",
    "'player_name_2nd',\n",
    "'duration_2nd',\n",
    "'pass_recipient_name_2nd',\n",
    "'pass_length_2nd',\n",
    "'pass_angle_2nd',\n",
    "'pass_end_location_2nd',\n",
    "'carry_end_location_2nd',\n",
    "'goalkeeper_end_location_2nd',\n",
    "'shot_statsbomb_xg_2nd',\n",
    "'shot_end_location_2nd',\n",
    "'shot_freeze_frame_2nd',\n",
    "'tactics_lineup_2nd',\n",
    "'timestamp_3rd',\n",
    "'tactics_lineup_2nd',\n",
    "'location_3rd',\n",
    "'duration_3rd',\n",
    "'related_events_3rd',\n",
    "'possession_team_name_3rd',\n",
    "'team_name_3rd',\n",
    "'player_name_3rd',\n",
    "'pass_recipient_name_3rd',\n",
    "'pass_length_3rd',\n",
    "'pass_angle_3rd',\n",
    "'pass_end_location_3rd',\n",
    "'carry_end_location_3rd',\n",
    "'shot_statsbomb_xg_3rd',\n",
    "'shot_end_location_3rd',\n",
    "'shot_freeze_frame_3rd',\n",
    "'goalkeeper_end_location_3rd',\n",
    "'substitution_replacement_name_3rd',\n",
    "'tactics_lineup_3rd', \n",
    "'opposition_player_locations',\n",
    "'player_locations', \n",
    "'goalkeeper_location',\n",
    "'shot_end_location',\n",
    "'shot_outcome_name',\n",
    "'pass_goal_assist_3rd',\n",
    "'pass_goal_assist_2nd',\n",
    "'shot_redirect_3rd',\n",
    "'shot_statsbomb_xg'],  axis = 1, inplace = True)"
   ]
  },
  {
   "cell_type": "code",
   "execution_count": 68,
   "metadata": {},
   "outputs": [
    {
     "name": "stderr",
     "output_type": "stream",
     "text": [
      "/Users/tomjones/opt/anaconda3/lib/python3.8/site-packages/pandas/core/frame.py:4379: SettingWithCopyWarning: \n",
      "A value is trying to be set on a copy of a slice from a DataFrame\n",
      "\n",
      "See the caveats in the documentation: https://pandas.pydata.org/pandas-docs/stable/user_guide/indexing.html#returning-a-view-versus-a-copy\n",
      "  return super().replace(\n"
     ]
    }
   ],
   "source": [
    "# These are catergorical variables so require None inplace of false\n",
    "df[['tactics_formation_1st','tactics_formation_2nd','tactics_formation_3rd']] = df[['tactics_formation_1st','tactics_formation_2nd','tactics_formation_3rd']].replace(to_replace=False, value='None', inplace = True)"
   ]
  },
  {
   "cell_type": "markdown",
   "metadata": {},
   "source": [
    "# Dummy variables"
   ]
  },
  {
   "cell_type": "code",
   "execution_count": 69,
   "metadata": {},
   "outputs": [],
   "source": [
    "# Gives the list of headings with name in that were dropped above\n",
    "name_headings_dropped_list = ['player_name_2nd', \n",
    " 'player_name_3rd', \n",
    " 'team_name_2nd', \n",
    " 'substitution_replacement_name_1st', \n",
    " 'player_name_1st', \n",
    " 'team_name_3rd', \n",
    " 'pass_recipient_name_2nd', \n",
    " 'substitution_replacement_name_3rd', \n",
    " 'possession_team_name_1st', \n",
    " 'possession_team_name_3rd', \n",
    " 'possession_team_name_2nd', \n",
    " 'pass_recipient_name_3rd',\n",
    " 'shot_outcome_name'] "
   ]
  },
  {
   "cell_type": "code",
   "execution_count": 70,
   "metadata": {},
   "outputs": [],
   "source": [
    "# creates list of columns with name in the heading that require dummying and haven't already been dropped\n",
    "columns_to_dummy = [col for col in name_heading_list if col not in name_headings_dropped_list]"
   ]
  },
  {
   "cell_type": "code",
   "execution_count": 71,
   "metadata": {},
   "outputs": [],
   "source": [
    "# dummies variables in columns_to_dummy list\n",
    "df = pd.get_dummies(df, columns= columns_to_dummy , drop_first=True)"
   ]
  },
  {
   "cell_type": "code",
   "execution_count": 72,
   "metadata": {},
   "outputs": [],
   "source": [
    "# dummies variables without name in the heading\n",
    "df = pd.get_dummies(df, columns= ['area_of_goal','tactics_formation_1st','tactics_formation_2nd','tactics_formation_3rd'] , drop_first=True)"
   ]
  },
  {
   "cell_type": "code",
   "execution_count": 73,
   "metadata": {},
   "outputs": [],
   "source": [
    "# creates list of columns with boolean data type\n",
    "boolean_list = list(df.select_dtypes(include=['bool']).columns)"
   ]
  },
  {
   "cell_type": "code",
   "execution_count": 74,
   "metadata": {},
   "outputs": [],
   "source": [
    "# converts boolean data type to integers \n",
    "df[boolean_list] = df[boolean_list].astype(int)"
   ]
  },
  {
   "cell_type": "code",
   "execution_count": 75,
   "metadata": {},
   "outputs": [],
   "source": [
    "# saves dataframe to csv\n",
    "df.to_csv('modelling.csv')"
   ]
  },
  {
   "cell_type": "code",
   "execution_count": 76,
   "metadata": {},
   "outputs": [],
   "source": [
    "dfc = pd.read_csv('modelling.csv')"
   ]
  },
  {
   "cell_type": "code",
   "execution_count": 77,
   "metadata": {},
   "outputs": [],
   "source": [
    "df_corr = dfc.corr()"
   ]
  },
  {
   "cell_type": "code",
   "execution_count": 78,
   "metadata": {},
   "outputs": [],
   "source": [
    "df_c = df_corr.shot_outcome"
   ]
  },
  {
   "cell_type": "code",
   "execution_count": 79,
   "metadata": {},
   "outputs": [
    {
     "data": {
      "text/plain": [
       "area_of_goal_OFF_TARGET     -0.367165\n",
       "pass_shot_assist_3rd        -0.215268\n",
       "pass_shot_assist_2nd        -0.174678\n",
       "defenders_infront_of_goal   -0.105032\n",
       "distance_from_goal          -0.091327\n",
       "                               ...   \n",
       "area_of_goal_TL              0.156332\n",
       "area_of_goal_TR              0.165486\n",
       "area_of_goal_BR              0.170194\n",
       "shot_open_goal               0.224235\n",
       "shot_outcome                 1.000000\n",
       "Name: shot_outcome, Length: 3406, dtype: float64"
      ]
     },
     "execution_count": 79,
     "metadata": {},
     "output_type": "execute_result"
    }
   ],
   "source": [
    "df_c.sort_values()"
   ]
  },
  {
   "cell_type": "code",
   "execution_count": 13,
   "metadata": {},
   "outputs": [
    {
     "data": {
      "text/plain": [
       "0    22371\n",
       "Name: shot_redirect_3rd, dtype: int64"
      ]
     },
     "execution_count": 13,
     "metadata": {},
     "output_type": "execute_result"
    }
   ],
   "source": [
    "df.shot_redirect_3rd.value_counts()"
   ]
  },
  {
   "cell_type": "code",
   "execution_count": null,
   "metadata": {},
   "outputs": [],
   "source": [
    "df_corr[df_corr['shot_outcome'] > 0.8]"
   ]
  },
  {
   "cell_type": "code",
   "execution_count": 90,
   "metadata": {},
   "outputs": [
    {
     "data": {
      "text/html": [
       "<div>\n",
       "<style scoped>\n",
       "    .dataframe tbody tr th:only-of-type {\n",
       "        vertical-align: middle;\n",
       "    }\n",
       "\n",
       "    .dataframe tbody tr th {\n",
       "        vertical-align: top;\n",
       "    }\n",
       "\n",
       "    .dataframe thead th {\n",
       "        text-align: right;\n",
       "    }\n",
       "</style>\n",
       "<table border=\"1\" class=\"dataframe\">\n",
       "  <thead>\n",
       "    <tr style=\"text-align: right;\">\n",
       "      <th></th>\n",
       "      <th>index</th>\n",
       "      <th>period</th>\n",
       "      <th>minute</th>\n",
       "      <th>second</th>\n",
       "      <th>possession</th>\n",
       "      <th>duration</th>\n",
       "      <th>shot_statsbomb_xg</th>\n",
       "      <th>shot_first_time</th>\n",
       "      <th>shot_deflected</th>\n",
       "      <th>under_pressure</th>\n",
       "      <th>...</th>\n",
       "      <th>50_50_outcome_name_3rd_Success To Opposition</th>\n",
       "      <th>50_50_outcome_name_3rd_Success To Team</th>\n",
       "      <th>50_50_outcome_name_3rd_Won</th>\n",
       "      <th>bad_behaviour_card_name_3rd_Yellow Card</th>\n",
       "      <th>area_of_goal_BM</th>\n",
       "      <th>area_of_goal_BR</th>\n",
       "      <th>area_of_goal_OFF_TARGET</th>\n",
       "      <th>area_of_goal_TL</th>\n",
       "      <th>area_of_goal_TM</th>\n",
       "      <th>area_of_goal_TR</th>\n",
       "    </tr>\n",
       "  </thead>\n",
       "  <tbody>\n",
       "    <tr>\n",
       "      <th>index</th>\n",
       "      <td>1.000000</td>\n",
       "      <td>0.839140</td>\n",
       "      <td>0.970608</td>\n",
       "      <td>-0.004919</td>\n",
       "      <td>0.931074</td>\n",
       "      <td>-0.026670</td>\n",
       "      <td>0.036546</td>\n",
       "      <td>-0.024359</td>\n",
       "      <td>0.001945</td>\n",
       "      <td>-0.017150</td>\n",
       "      <td>...</td>\n",
       "      <td>0.001927</td>\n",
       "      <td>-0.011194</td>\n",
       "      <td>-0.003963</td>\n",
       "      <td>0.011900</td>\n",
       "      <td>-0.000231</td>\n",
       "      <td>-0.007732</td>\n",
       "      <td>-0.001924</td>\n",
       "      <td>-0.000354</td>\n",
       "      <td>0.008668</td>\n",
       "      <td>-0.000989</td>\n",
       "    </tr>\n",
       "    <tr>\n",
       "      <th>period</th>\n",
       "      <td>0.839140</td>\n",
       "      <td>1.000000</td>\n",
       "      <td>0.854692</td>\n",
       "      <td>-0.009219</td>\n",
       "      <td>0.840484</td>\n",
       "      <td>-0.006376</td>\n",
       "      <td>0.026128</td>\n",
       "      <td>-0.032172</td>\n",
       "      <td>0.004659</td>\n",
       "      <td>-0.009060</td>\n",
       "      <td>...</td>\n",
       "      <td>-0.006968</td>\n",
       "      <td>-0.006968</td>\n",
       "      <td>-0.009854</td>\n",
       "      <td>0.005761</td>\n",
       "      <td>0.001826</td>\n",
       "      <td>-0.010245</td>\n",
       "      <td>0.000169</td>\n",
       "      <td>-0.003798</td>\n",
       "      <td>0.009348</td>\n",
       "      <td>-0.002407</td>\n",
       "    </tr>\n",
       "    <tr>\n",
       "      <th>minute</th>\n",
       "      <td>0.970608</td>\n",
       "      <td>0.854692</td>\n",
       "      <td>1.000000</td>\n",
       "      <td>-0.013206</td>\n",
       "      <td>0.969878</td>\n",
       "      <td>-0.007216</td>\n",
       "      <td>0.028311</td>\n",
       "      <td>-0.035454</td>\n",
       "      <td>-0.000298</td>\n",
       "      <td>-0.017806</td>\n",
       "      <td>...</td>\n",
       "      <td>-0.001061</td>\n",
       "      <td>-0.011018</td>\n",
       "      <td>-0.002733</td>\n",
       "      <td>0.010647</td>\n",
       "      <td>-0.004293</td>\n",
       "      <td>-0.009438</td>\n",
       "      <td>0.000342</td>\n",
       "      <td>0.002072</td>\n",
       "      <td>0.010222</td>\n",
       "      <td>0.001221</td>\n",
       "    </tr>\n",
       "    <tr>\n",
       "      <th>second</th>\n",
       "      <td>-0.004919</td>\n",
       "      <td>-0.009219</td>\n",
       "      <td>-0.013206</td>\n",
       "      <td>1.000000</td>\n",
       "      <td>-0.004568</td>\n",
       "      <td>0.005294</td>\n",
       "      <td>0.004585</td>\n",
       "      <td>0.007420</td>\n",
       "      <td>0.007440</td>\n",
       "      <td>-0.000581</td>\n",
       "      <td>...</td>\n",
       "      <td>-0.004050</td>\n",
       "      <td>-0.006755</td>\n",
       "      <td>-0.001083</td>\n",
       "      <td>0.007686</td>\n",
       "      <td>0.010246</td>\n",
       "      <td>0.004812</td>\n",
       "      <td>0.000634</td>\n",
       "      <td>-0.009379</td>\n",
       "      <td>0.009969</td>\n",
       "      <td>-0.002908</td>\n",
       "    </tr>\n",
       "    <tr>\n",
       "      <th>possession</th>\n",
       "      <td>0.931074</td>\n",
       "      <td>0.840484</td>\n",
       "      <td>0.969878</td>\n",
       "      <td>-0.004568</td>\n",
       "      <td>1.000000</td>\n",
       "      <td>0.002539</td>\n",
       "      <td>0.025212</td>\n",
       "      <td>-0.038820</td>\n",
       "      <td>0.000839</td>\n",
       "      <td>-0.015784</td>\n",
       "      <td>...</td>\n",
       "      <td>-0.000947</td>\n",
       "      <td>-0.010347</td>\n",
       "      <td>-0.001176</td>\n",
       "      <td>0.008723</td>\n",
       "      <td>-0.004275</td>\n",
       "      <td>-0.010765</td>\n",
       "      <td>0.000660</td>\n",
       "      <td>0.002734</td>\n",
       "      <td>0.010460</td>\n",
       "      <td>0.001771</td>\n",
       "    </tr>\n",
       "    <tr>\n",
       "      <th>...</th>\n",
       "      <td>...</td>\n",
       "      <td>...</td>\n",
       "      <td>...</td>\n",
       "      <td>...</td>\n",
       "      <td>...</td>\n",
       "      <td>...</td>\n",
       "      <td>...</td>\n",
       "      <td>...</td>\n",
       "      <td>...</td>\n",
       "      <td>...</td>\n",
       "      <td>...</td>\n",
       "      <td>...</td>\n",
       "      <td>...</td>\n",
       "      <td>...</td>\n",
       "      <td>...</td>\n",
       "      <td>...</td>\n",
       "      <td>...</td>\n",
       "      <td>...</td>\n",
       "      <td>...</td>\n",
       "      <td>...</td>\n",
       "      <td>...</td>\n",
       "    </tr>\n",
       "    <tr>\n",
       "      <th>area_of_goal_BR</th>\n",
       "      <td>-0.007732</td>\n",
       "      <td>-0.010245</td>\n",
       "      <td>-0.009438</td>\n",
       "      <td>0.004812</td>\n",
       "      <td>-0.010765</td>\n",
       "      <td>0.014370</td>\n",
       "      <td>0.079297</td>\n",
       "      <td>0.027563</td>\n",
       "      <td>0.040833</td>\n",
       "      <td>-0.004815</td>\n",
       "      <td>...</td>\n",
       "      <td>-0.001297</td>\n",
       "      <td>-0.001297</td>\n",
       "      <td>-0.001834</td>\n",
       "      <td>0.010090</td>\n",
       "      <td>-0.035848</td>\n",
       "      <td>1.000000</td>\n",
       "      <td>-0.387420</td>\n",
       "      <td>-0.037568</td>\n",
       "      <td>-0.021517</td>\n",
       "      <td>-0.037254</td>\n",
       "    </tr>\n",
       "    <tr>\n",
       "      <th>area_of_goal_OFF_TARGET</th>\n",
       "      <td>-0.001924</td>\n",
       "      <td>0.000169</td>\n",
       "      <td>0.000342</td>\n",
       "      <td>0.000634</td>\n",
       "      <td>0.000660</td>\n",
       "      <td>-0.040804</td>\n",
       "      <td>-0.159766</td>\n",
       "      <td>-0.008783</td>\n",
       "      <td>-0.100237</td>\n",
       "      <td>0.012485</td>\n",
       "      <td>...</td>\n",
       "      <td>0.003347</td>\n",
       "      <td>0.003347</td>\n",
       "      <td>0.004734</td>\n",
       "      <td>-0.010085</td>\n",
       "      <td>-0.369207</td>\n",
       "      <td>-0.387420</td>\n",
       "      <td>1.000000</td>\n",
       "      <td>-0.386925</td>\n",
       "      <td>-0.221613</td>\n",
       "      <td>-0.383688</td>\n",
       "    </tr>\n",
       "    <tr>\n",
       "      <th>area_of_goal_TL</th>\n",
       "      <td>-0.000354</td>\n",
       "      <td>-0.003798</td>\n",
       "      <td>0.002072</td>\n",
       "      <td>-0.009379</td>\n",
       "      <td>0.002734</td>\n",
       "      <td>0.023266</td>\n",
       "      <td>0.018615</td>\n",
       "      <td>-0.028599</td>\n",
       "      <td>0.047962</td>\n",
       "      <td>-0.009029</td>\n",
       "      <td>...</td>\n",
       "      <td>-0.001295</td>\n",
       "      <td>-0.001295</td>\n",
       "      <td>-0.001832</td>\n",
       "      <td>0.023648</td>\n",
       "      <td>-0.035802</td>\n",
       "      <td>-0.037568</td>\n",
       "      <td>-0.386925</td>\n",
       "      <td>1.000000</td>\n",
       "      <td>-0.021490</td>\n",
       "      <td>-0.037206</td>\n",
       "    </tr>\n",
       "    <tr>\n",
       "      <th>area_of_goal_TM</th>\n",
       "      <td>0.008668</td>\n",
       "      <td>0.009348</td>\n",
       "      <td>0.010222</td>\n",
       "      <td>0.009969</td>\n",
       "      <td>0.010460</td>\n",
       "      <td>0.026088</td>\n",
       "      <td>0.003176</td>\n",
       "      <td>-0.006435</td>\n",
       "      <td>0.024475</td>\n",
       "      <td>0.006288</td>\n",
       "      <td>...</td>\n",
       "      <td>-0.000742</td>\n",
       "      <td>-0.000742</td>\n",
       "      <td>-0.001049</td>\n",
       "      <td>-0.001963</td>\n",
       "      <td>-0.020506</td>\n",
       "      <td>-0.021517</td>\n",
       "      <td>-0.221613</td>\n",
       "      <td>-0.021490</td>\n",
       "      <td>1.000000</td>\n",
       "      <td>-0.021310</td>\n",
       "    </tr>\n",
       "    <tr>\n",
       "      <th>area_of_goal_TR</th>\n",
       "      <td>-0.000989</td>\n",
       "      <td>-0.002407</td>\n",
       "      <td>0.001221</td>\n",
       "      <td>-0.002908</td>\n",
       "      <td>0.001771</td>\n",
       "      <td>0.040856</td>\n",
       "      <td>0.012688</td>\n",
       "      <td>-0.020398</td>\n",
       "      <td>0.043937</td>\n",
       "      <td>-0.004476</td>\n",
       "      <td>...</td>\n",
       "      <td>-0.001284</td>\n",
       "      <td>-0.001284</td>\n",
       "      <td>-0.001816</td>\n",
       "      <td>-0.003398</td>\n",
       "      <td>-0.035502</td>\n",
       "      <td>-0.037254</td>\n",
       "      <td>-0.383688</td>\n",
       "      <td>-0.037206</td>\n",
       "      <td>-0.021310</td>\n",
       "      <td>1.000000</td>\n",
       "    </tr>\n",
       "  </tbody>\n",
       "</table>\n",
       "<p>3406 rows × 3406 columns</p>\n",
       "</div>"
      ],
      "text/plain": [
       "                            index    period    minute    second  possession  \\\n",
       "index                    1.000000  0.839140  0.970608 -0.004919    0.931074   \n",
       "period                   0.839140  1.000000  0.854692 -0.009219    0.840484   \n",
       "minute                   0.970608  0.854692  1.000000 -0.013206    0.969878   \n",
       "second                  -0.004919 -0.009219 -0.013206  1.000000   -0.004568   \n",
       "possession               0.931074  0.840484  0.969878 -0.004568    1.000000   \n",
       "...                           ...       ...       ...       ...         ...   \n",
       "area_of_goal_BR         -0.007732 -0.010245 -0.009438  0.004812   -0.010765   \n",
       "area_of_goal_OFF_TARGET -0.001924  0.000169  0.000342  0.000634    0.000660   \n",
       "area_of_goal_TL         -0.000354 -0.003798  0.002072 -0.009379    0.002734   \n",
       "area_of_goal_TM          0.008668  0.009348  0.010222  0.009969    0.010460   \n",
       "area_of_goal_TR         -0.000989 -0.002407  0.001221 -0.002908    0.001771   \n",
       "\n",
       "                         duration  shot_statsbomb_xg  shot_first_time  \\\n",
       "index                   -0.026670           0.036546        -0.024359   \n",
       "period                  -0.006376           0.026128        -0.032172   \n",
       "minute                  -0.007216           0.028311        -0.035454   \n",
       "second                   0.005294           0.004585         0.007420   \n",
       "possession               0.002539           0.025212        -0.038820   \n",
       "...                           ...                ...              ...   \n",
       "area_of_goal_BR          0.014370           0.079297         0.027563   \n",
       "area_of_goal_OFF_TARGET -0.040804          -0.159766        -0.008783   \n",
       "area_of_goal_TL          0.023266           0.018615        -0.028599   \n",
       "area_of_goal_TM          0.026088           0.003176        -0.006435   \n",
       "area_of_goal_TR          0.040856           0.012688        -0.020398   \n",
       "\n",
       "                         shot_deflected  under_pressure  ...  \\\n",
       "index                          0.001945       -0.017150  ...   \n",
       "period                         0.004659       -0.009060  ...   \n",
       "minute                        -0.000298       -0.017806  ...   \n",
       "second                         0.007440       -0.000581  ...   \n",
       "possession                     0.000839       -0.015784  ...   \n",
       "...                                 ...             ...  ...   \n",
       "area_of_goal_BR                0.040833       -0.004815  ...   \n",
       "area_of_goal_OFF_TARGET       -0.100237        0.012485  ...   \n",
       "area_of_goal_TL                0.047962       -0.009029  ...   \n",
       "area_of_goal_TM                0.024475        0.006288  ...   \n",
       "area_of_goal_TR                0.043937       -0.004476  ...   \n",
       "\n",
       "                         50_50_outcome_name_3rd_Success To Opposition  \\\n",
       "index                                                        0.001927   \n",
       "period                                                      -0.006968   \n",
       "minute                                                      -0.001061   \n",
       "second                                                      -0.004050   \n",
       "possession                                                  -0.000947   \n",
       "...                                                               ...   \n",
       "area_of_goal_BR                                             -0.001297   \n",
       "area_of_goal_OFF_TARGET                                      0.003347   \n",
       "area_of_goal_TL                                             -0.001295   \n",
       "area_of_goal_TM                                             -0.000742   \n",
       "area_of_goal_TR                                             -0.001284   \n",
       "\n",
       "                         50_50_outcome_name_3rd_Success To Team  \\\n",
       "index                                                 -0.011194   \n",
       "period                                                -0.006968   \n",
       "minute                                                -0.011018   \n",
       "second                                                -0.006755   \n",
       "possession                                            -0.010347   \n",
       "...                                                         ...   \n",
       "area_of_goal_BR                                       -0.001297   \n",
       "area_of_goal_OFF_TARGET                                0.003347   \n",
       "area_of_goal_TL                                       -0.001295   \n",
       "area_of_goal_TM                                       -0.000742   \n",
       "area_of_goal_TR                                       -0.001284   \n",
       "\n",
       "                         50_50_outcome_name_3rd_Won  \\\n",
       "index                                     -0.003963   \n",
       "period                                    -0.009854   \n",
       "minute                                    -0.002733   \n",
       "second                                    -0.001083   \n",
       "possession                                -0.001176   \n",
       "...                                             ...   \n",
       "area_of_goal_BR                           -0.001834   \n",
       "area_of_goal_OFF_TARGET                    0.004734   \n",
       "area_of_goal_TL                           -0.001832   \n",
       "area_of_goal_TM                           -0.001049   \n",
       "area_of_goal_TR                           -0.001816   \n",
       "\n",
       "                         bad_behaviour_card_name_3rd_Yellow Card  \\\n",
       "index                                                   0.011900   \n",
       "period                                                  0.005761   \n",
       "minute                                                  0.010647   \n",
       "second                                                  0.007686   \n",
       "possession                                              0.008723   \n",
       "...                                                          ...   \n",
       "area_of_goal_BR                                         0.010090   \n",
       "area_of_goal_OFF_TARGET                                -0.010085   \n",
       "area_of_goal_TL                                         0.023648   \n",
       "area_of_goal_TM                                        -0.001963   \n",
       "area_of_goal_TR                                        -0.003398   \n",
       "\n",
       "                         area_of_goal_BM  area_of_goal_BR  \\\n",
       "index                          -0.000231        -0.007732   \n",
       "period                          0.001826        -0.010245   \n",
       "minute                         -0.004293        -0.009438   \n",
       "second                          0.010246         0.004812   \n",
       "possession                     -0.004275        -0.010765   \n",
       "...                                  ...              ...   \n",
       "area_of_goal_BR                -0.035848         1.000000   \n",
       "area_of_goal_OFF_TARGET        -0.369207        -0.387420   \n",
       "area_of_goal_TL                -0.035802        -0.037568   \n",
       "area_of_goal_TM                -0.020506        -0.021517   \n",
       "area_of_goal_TR                -0.035502        -0.037254   \n",
       "\n",
       "                         area_of_goal_OFF_TARGET  area_of_goal_TL  \\\n",
       "index                                  -0.001924        -0.000354   \n",
       "period                                  0.000169        -0.003798   \n",
       "minute                                  0.000342         0.002072   \n",
       "second                                  0.000634        -0.009379   \n",
       "possession                              0.000660         0.002734   \n",
       "...                                          ...              ...   \n",
       "area_of_goal_BR                        -0.387420        -0.037568   \n",
       "area_of_goal_OFF_TARGET                 1.000000        -0.386925   \n",
       "area_of_goal_TL                        -0.386925         1.000000   \n",
       "area_of_goal_TM                        -0.221613        -0.021490   \n",
       "area_of_goal_TR                        -0.383688        -0.037206   \n",
       "\n",
       "                         area_of_goal_TM  area_of_goal_TR  \n",
       "index                           0.008668        -0.000989  \n",
       "period                          0.009348        -0.002407  \n",
       "minute                          0.010222         0.001221  \n",
       "second                          0.009969        -0.002908  \n",
       "possession                      0.010460         0.001771  \n",
       "...                                  ...              ...  \n",
       "area_of_goal_BR                -0.021517        -0.037254  \n",
       "area_of_goal_OFF_TARGET        -0.221613        -0.383688  \n",
       "area_of_goal_TL                -0.021490        -0.037206  \n",
       "area_of_goal_TM                 1.000000        -0.021310  \n",
       "area_of_goal_TR                -0.021310         1.000000  \n",
       "\n",
       "[3406 rows x 3406 columns]"
      ]
     },
     "execution_count": 90,
     "metadata": {},
     "output_type": "execute_result"
    }
   ],
   "source": [
    "df_corr = df.corr() "
   ]
  },
  {
   "cell_type": "code",
   "execution_count": null,
   "metadata": {},
   "outputs": [],
   "source": []
  }
 ],
 "metadata": {
  "kernelspec": {
   "display_name": "Python 3",
   "language": "python",
   "name": "python3"
  },
  "language_info": {
   "codemirror_mode": {
    "name": "ipython",
    "version": 3
   },
   "file_extension": ".py",
   "mimetype": "text/x-python",
   "name": "python",
   "nbconvert_exporter": "python",
   "pygments_lexer": "ipython3",
   "version": "3.8.5"
  }
 },
 "nbformat": 4,
 "nbformat_minor": 4
}
